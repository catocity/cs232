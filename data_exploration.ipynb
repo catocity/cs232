{
 "cells": [
  {
   "cell_type": "markdown",
   "metadata": {
    "collapsed": true
   },
   "source": [
    "# Song Lyric Data\n",
    "### Catherine Chen, Fiona Chung, Safia Williams"
   ]
  },
  {
   "cell_type": "code",
   "execution_count": 1,
   "metadata": {
    "collapsed": true
   },
   "outputs": [],
   "source": [
    "import pandas as pd\n",
    "import seaborn as sns\n",
    "import matplotlib.pyplot as plt"
   ]
  },
  {
   "cell_type": "code",
   "execution_count": 2,
   "metadata": {
    "collapsed": true
   },
   "outputs": [],
   "source": [
    "%matplotlib inline"
   ]
  },
  {
   "cell_type": "markdown",
   "metadata": {},
   "source": [
    "## Read in and explore data"
   ]
  },
  {
   "cell_type": "code",
   "execution_count": 3,
   "metadata": {},
   "outputs": [
    {
     "data": {
      "text/html": [
       "<div>\n",
       "<style>\n",
       "    .dataframe thead tr:only-child th {\n",
       "        text-align: right;\n",
       "    }\n",
       "\n",
       "    .dataframe thead th {\n",
       "        text-align: left;\n",
       "    }\n",
       "\n",
       "    .dataframe tbody tr th {\n",
       "        vertical-align: top;\n",
       "    }\n",
       "</style>\n",
       "<table border=\"1\" class=\"dataframe\">\n",
       "  <thead>\n",
       "    <tr style=\"text-align: right;\">\n",
       "      <th></th>\n",
       "      <th>song</th>\n",
       "      <th>year</th>\n",
       "      <th>artist</th>\n",
       "      <th>genre</th>\n",
       "      <th>lyrics</th>\n",
       "    </tr>\n",
       "    <tr>\n",
       "      <th>index</th>\n",
       "      <th></th>\n",
       "      <th></th>\n",
       "      <th></th>\n",
       "      <th></th>\n",
       "      <th></th>\n",
       "    </tr>\n",
       "  </thead>\n",
       "  <tbody>\n",
       "    <tr>\n",
       "      <th>0</th>\n",
       "      <td>ego-remix</td>\n",
       "      <td>2009</td>\n",
       "      <td>beyonce-knowles</td>\n",
       "      <td>Pop</td>\n",
       "      <td>Oh baby, how you doing?\\nYou know I'm gonna cu...</td>\n",
       "    </tr>\n",
       "    <tr>\n",
       "      <th>1</th>\n",
       "      <td>then-tell-me</td>\n",
       "      <td>2009</td>\n",
       "      <td>beyonce-knowles</td>\n",
       "      <td>Pop</td>\n",
       "      <td>playin' everything so easy,\\nit's like you see...</td>\n",
       "    </tr>\n",
       "    <tr>\n",
       "      <th>2</th>\n",
       "      <td>honesty</td>\n",
       "      <td>2009</td>\n",
       "      <td>beyonce-knowles</td>\n",
       "      <td>Pop</td>\n",
       "      <td>If you search\\nFor tenderness\\nIt isn't hard t...</td>\n",
       "    </tr>\n",
       "    <tr>\n",
       "      <th>3</th>\n",
       "      <td>you-are-my-rock</td>\n",
       "      <td>2009</td>\n",
       "      <td>beyonce-knowles</td>\n",
       "      <td>Pop</td>\n",
       "      <td>Oh oh oh I, oh oh oh I\\n[Verse 1:]\\nIf I wrote...</td>\n",
       "    </tr>\n",
       "    <tr>\n",
       "      <th>4</th>\n",
       "      <td>black-culture</td>\n",
       "      <td>2009</td>\n",
       "      <td>beyonce-knowles</td>\n",
       "      <td>Pop</td>\n",
       "      <td>Party the people, the people the party it's po...</td>\n",
       "    </tr>\n",
       "  </tbody>\n",
       "</table>\n",
       "</div>"
      ],
      "text/plain": [
       "                  song  year           artist genre  \\\n",
       "index                                                 \n",
       "0            ego-remix  2009  beyonce-knowles   Pop   \n",
       "1         then-tell-me  2009  beyonce-knowles   Pop   \n",
       "2              honesty  2009  beyonce-knowles   Pop   \n",
       "3      you-are-my-rock  2009  beyonce-knowles   Pop   \n",
       "4        black-culture  2009  beyonce-knowles   Pop   \n",
       "\n",
       "                                                  lyrics  \n",
       "index                                                     \n",
       "0      Oh baby, how you doing?\\nYou know I'm gonna cu...  \n",
       "1      playin' everything so easy,\\nit's like you see...  \n",
       "2      If you search\\nFor tenderness\\nIt isn't hard t...  \n",
       "3      Oh oh oh I, oh oh oh I\\n[Verse 1:]\\nIf I wrote...  \n",
       "4      Party the people, the people the party it's po...  "
      ]
     },
     "execution_count": 3,
     "metadata": {},
     "output_type": "execute_result"
    }
   ],
   "source": [
    "df = pd.read_csv('lyrics.csv', index_col=['index'])\n",
    "df.head()"
   ]
  },
  {
   "cell_type": "code",
   "execution_count": 4,
   "metadata": {},
   "outputs": [
    {
     "name": "stdout",
     "output_type": "stream",
     "text": [
      "There are 362237 total songs in this dataset.\n"
     ]
    }
   ],
   "source": [
    "print \"There are\", df.shape[0], \"total songs in this dataset.\""
   ]
  },
  {
   "cell_type": "code",
   "execution_count": 5,
   "metadata": {},
   "outputs": [
    {
     "name": "stdout",
     "output_type": "stream",
     "text": [
      "song 362235\n",
      "year 362237\n",
      "artist 362237\n",
      "genre 362237\n",
      "lyrics 266557\n"
     ]
    }
   ],
   "source": [
    "'''Identify any missing data'''\n",
    "for col in df:\n",
    "    print col, df[col].count()"
   ]
  },
  {
   "cell_type": "markdown",
   "metadata": {},
   "source": [
    "#### Year"
   ]
  },
  {
   "cell_type": "code",
   "execution_count": 5,
   "metadata": {},
   "outputs": [
    {
     "data": {
      "image/png": "[encoded data removed]",
      "text/plain": [
       "<matplotlib.figure.Figure at 0x1100ea050>"
      ]
     },
     "metadata": {},
     "output_type": "display_data"
    }
   ],
   "source": [
    "sns.set(style=\"darkgrid\")\n",
    "year_plt = sns.countplot(y = \"year\", data = df)"
   ]
  },
  {
   "cell_type": "code",
   "execution_count": 6,
   "metadata": {},
   "outputs": [
    {
     "data": {
      "text/html": [
       "<div>\n",
       "<style>\n",
       "    .dataframe thead tr:only-child th {\n",
       "        text-align: right;\n",
       "    }\n",
       "\n",
       "    .dataframe thead th {\n",
       "        text-align: left;\n",
       "    }\n",
       "\n",
       "    .dataframe tbody tr th {\n",
       "        vertical-align: top;\n",
       "    }\n",
       "</style>\n",
       "<table border=\"1\" class=\"dataframe\">\n",
       "  <thead>\n",
       "    <tr style=\"text-align: right;\">\n",
       "      <th></th>\n",
       "      <th>song</th>\n",
       "      <th>artist</th>\n",
       "      <th>genre</th>\n",
       "      <th>lyrics</th>\n",
       "    </tr>\n",
       "    <tr>\n",
       "      <th>year</th>\n",
       "      <th></th>\n",
       "      <th></th>\n",
       "      <th></th>\n",
       "      <th></th>\n",
       "    </tr>\n",
       "  </thead>\n",
       "  <tbody>\n",
       "    <tr>\n",
       "      <th>2006</th>\n",
       "      <td>76590</td>\n",
       "      <td>76590</td>\n",
       "      <td>76590</td>\n",
       "      <td>74257</td>\n",
       "    </tr>\n",
       "    <tr>\n",
       "      <th>2007</th>\n",
       "      <td>63677</td>\n",
       "      <td>63677</td>\n",
       "      <td>63677</td>\n",
       "      <td>62562</td>\n",
       "    </tr>\n",
       "    <tr>\n",
       "      <th>2008</th>\n",
       "      <td>21497</td>\n",
       "      <td>21497</td>\n",
       "      <td>21497</td>\n",
       "      <td>19609</td>\n",
       "    </tr>\n",
       "    <tr>\n",
       "      <th>2014</th>\n",
       "      <td>28250</td>\n",
       "      <td>28250</td>\n",
       "      <td>28250</td>\n",
       "      <td>12769</td>\n",
       "    </tr>\n",
       "    <tr>\n",
       "      <th>2012</th>\n",
       "      <td>15789</td>\n",
       "      <td>15789</td>\n",
       "      <td>15789</td>\n",
       "      <td>11299</td>\n",
       "    </tr>\n",
       "    <tr>\n",
       "      <th>2016</th>\n",
       "      <td>37409</td>\n",
       "      <td>37409</td>\n",
       "      <td>37409</td>\n",
       "      <td>11105</td>\n",
       "    </tr>\n",
       "    <tr>\n",
       "      <th>2013</th>\n",
       "      <td>17331</td>\n",
       "      <td>17331</td>\n",
       "      <td>17331</td>\n",
       "      <td>10836</td>\n",
       "    </tr>\n",
       "    <tr>\n",
       "      <th>2009</th>\n",
       "      <td>12027</td>\n",
       "      <td>12029</td>\n",
       "      <td>12029</td>\n",
       "      <td>10179</td>\n",
       "    </tr>\n",
       "    <tr>\n",
       "      <th>2015</th>\n",
       "      <td>28766</td>\n",
       "      <td>28766</td>\n",
       "      <td>28766</td>\n",
       "      <td>10156</td>\n",
       "    </tr>\n",
       "    <tr>\n",
       "      <th>2011</th>\n",
       "      <td>12067</td>\n",
       "      <td>12067</td>\n",
       "      <td>12067</td>\n",
       "      <td>9839</td>\n",
       "    </tr>\n",
       "  </tbody>\n",
       "</table>\n",
       "</div>"
      ],
      "text/plain": [
       "       song  artist  genre  lyrics\n",
       "year                              \n",
       "2006  76590   76590  76590   74257\n",
       "2007  63677   63677  63677   62562\n",
       "2008  21497   21497  21497   19609\n",
       "2014  28250   28250  28250   12769\n",
       "2012  15789   15789  15789   11299\n",
       "2016  37409   37409  37409   11105\n",
       "2013  17331   17331  17331   10836\n",
       "2009  12027   12029  12029   10179\n",
       "2015  28766   28766  28766   10156\n",
       "2011  12067   12067  12067    9839"
      ]
     },
     "execution_count": 6,
     "metadata": {},
     "output_type": "execute_result"
    }
   ],
   "source": [
    "year_df = df.groupby(\"year\")\n",
    "\n",
    "# Top 10 years w/lyrics\n",
    "year_df = year_df.count().sort_values(by = \"lyrics\", ascending = False).head(10)\n",
    "year_df"
   ]
  },
  {
   "cell_type": "markdown",
   "metadata": {},
   "source": [
    "#### Artist"
   ]
  },
  {
   "cell_type": "code",
   "execution_count": 7,
   "metadata": {},
   "outputs": [
    {
     "name": "stdout",
     "output_type": "stream",
     "text": [
      "There are 18231 different artists in this dataset.\n"
     ]
    }
   ],
   "source": [
    "print \"There are\", len(df[\"artist\"].unique()), \"different artists in this dataset.\""
   ]
  },
  {
   "cell_type": "code",
   "execution_count": 8,
   "metadata": {},
   "outputs": [
    {
     "data": {
      "text/html": [
       "<div>\n",
       "<style>\n",
       "    .dataframe thead tr:only-child th {\n",
       "        text-align: right;\n",
       "    }\n",
       "\n",
       "    .dataframe thead th {\n",
       "        text-align: left;\n",
       "    }\n",
       "\n",
       "    .dataframe tbody tr th {\n",
       "        vertical-align: top;\n",
       "    }\n",
       "</style>\n",
       "<table border=\"1\" class=\"dataframe\">\n",
       "  <thead>\n",
       "    <tr style=\"text-align: right;\">\n",
       "      <th></th>\n",
       "      <th>song</th>\n",
       "      <th>year</th>\n",
       "      <th>genre</th>\n",
       "      <th>lyrics</th>\n",
       "    </tr>\n",
       "    <tr>\n",
       "      <th>artist</th>\n",
       "      <th></th>\n",
       "      <th></th>\n",
       "      <th></th>\n",
       "      <th></th>\n",
       "    </tr>\n",
       "  </thead>\n",
       "  <tbody>\n",
       "    <tr>\n",
       "      <th>dolly-parton</th>\n",
       "      <td>755</td>\n",
       "      <td>755</td>\n",
       "      <td>755</td>\n",
       "      <td>744</td>\n",
       "    </tr>\n",
       "    <tr>\n",
       "      <th>elton-john</th>\n",
       "      <td>680</td>\n",
       "      <td>680</td>\n",
       "      <td>680</td>\n",
       "      <td>676</td>\n",
       "    </tr>\n",
       "    <tr>\n",
       "      <th>chris-brown</th>\n",
       "      <td>655</td>\n",
       "      <td>655</td>\n",
       "      <td>655</td>\n",
       "      <td>628</td>\n",
       "    </tr>\n",
       "    <tr>\n",
       "      <th>barbra-streisand</th>\n",
       "      <td>624</td>\n",
       "      <td>624</td>\n",
       "      <td>624</td>\n",
       "      <td>607</td>\n",
       "    </tr>\n",
       "    <tr>\n",
       "      <th>bob-dylan</th>\n",
       "      <td>614</td>\n",
       "      <td>614</td>\n",
       "      <td>614</td>\n",
       "      <td>596</td>\n",
       "    </tr>\n",
       "    <tr>\n",
       "      <th>bee-gees</th>\n",
       "      <td>599</td>\n",
       "      <td>599</td>\n",
       "      <td>599</td>\n",
       "      <td>591</td>\n",
       "    </tr>\n",
       "    <tr>\n",
       "      <th>eddy-arnold</th>\n",
       "      <td>628</td>\n",
       "      <td>628</td>\n",
       "      <td>628</td>\n",
       "      <td>591</td>\n",
       "    </tr>\n",
       "    <tr>\n",
       "      <th>eminem</th>\n",
       "      <td>589</td>\n",
       "      <td>589</td>\n",
       "      <td>589</td>\n",
       "      <td>578</td>\n",
       "    </tr>\n",
       "    <tr>\n",
       "      <th>ella-fitzgerald</th>\n",
       "      <td>623</td>\n",
       "      <td>623</td>\n",
       "      <td>623</td>\n",
       "      <td>571</td>\n",
       "    </tr>\n",
       "    <tr>\n",
       "      <th>david-bowie</th>\n",
       "      <td>599</td>\n",
       "      <td>599</td>\n",
       "      <td>599</td>\n",
       "      <td>570</td>\n",
       "    </tr>\n",
       "  </tbody>\n",
       "</table>\n",
       "</div>"
      ],
      "text/plain": [
       "                  song  year  genre  lyrics\n",
       "artist                                     \n",
       "dolly-parton       755   755    755     744\n",
       "elton-john         680   680    680     676\n",
       "chris-brown        655   655    655     628\n",
       "barbra-streisand   624   624    624     607\n",
       "bob-dylan          614   614    614     596\n",
       "bee-gees           599   599    599     591\n",
       "eddy-arnold        628   628    628     591\n",
       "eminem             589   589    589     578\n",
       "ella-fitzgerald    623   623    623     571\n",
       "david-bowie        599   599    599     570"
      ]
     },
     "execution_count": 8,
     "metadata": {},
     "output_type": "execute_result"
    }
   ],
   "source": [
    "artist_df = df.groupby(\"artist\")\n",
    "\n",
    "# Top 10 artists w/lyrics\n",
    "artist_df = artist_df.count().sort_values(by = \"lyrics\", ascending = False).head(10)\n",
    "artist_df"
   ]
  },
  {
   "cell_type": "code",
   "execution_count": 9,
   "metadata": {
    "scrolled": false
   },
   "outputs": [
    {
     "data": {
      "text/plain": [
       "<matplotlib.text.Text at 0x1107757d0>"
      ]
     },
     "execution_count": 9,
     "metadata": {},
     "output_type": "execute_result"
    },
    {
     "data": {
      "image/png": "[encoded data removed]",
      "text/plain": [
       "<matplotlib.figure.Figure at 0x1100c6fd0>"
      ]
     },
     "metadata": {},
     "output_type": "display_data"
    }
   ],
   "source": [
    "artist_plt = sns.barplot(x = \"lyrics\", y = artist_df.index, data = artist_df)\n",
    "artist_plt.set_title(\"Top 10 Artists According to Lyric Availability\")\n",
    "artist_plt.set_xlabel(\"count\")"
   ]
  },
  {
   "cell_type": "markdown",
   "metadata": {},
   "source": [
    "#### Genre"
   ]
  },
  {
   "cell_type": "code",
   "execution_count": 12,
   "metadata": {},
   "outputs": [
    {
     "data": {
      "text/plain": [
       "<matplotlib.text.Text at 0x10f4f1790>"
      ]
     },
     "execution_count": 12,
     "metadata": {},
     "output_type": "execute_result"
    },
    {
     "data": {
      "image/png": "[encoded data removed]",
      "text/plain": [
       "<matplotlib.figure.Figure at 0x104502650>"
      ]
     },
     "metadata": {},
     "output_type": "display_data"
    }
   ],
   "source": [
    "genre_plt = sns.countplot(y = \"genre\", data = df)\n",
    "genre_plt.set_title(\"Distribution of Genres\")"
   ]
  },
  {
   "cell_type": "markdown",
   "metadata": {},
   "source": [
    "## Clean up data"
   ]
  },
  {
   "cell_type": "markdown",
   "metadata": {
    "collapsed": true
   },
   "source": [
    "#### Lyrics\n",
    "##### We will start training at 10 songs, then increase the amount of training data and examine the differences in output quality. (Note: for timing purposes, for the 10 set size, we ended up only using the pop training set and it was used more as a test for us to become familiar with the models. For our final report, we will compare the performance of the models trained on the Dolly Parton songs and the 5000 song set)"
   ]
  },
  {
   "cell_type": "code",
   "execution_count": 6,
   "metadata": {
    "collapsed": true
   },
   "outputs": [],
   "source": [
    "import random"
   ]
  },
  {
   "cell_type": "code",
   "execution_count": 13,
   "metadata": {
    "collapsed": true
   },
   "outputs": [],
   "source": [
    "''' Given a category (year, artist, genre), target value, and an integer, generates a sample training set of size \n",
    "    num_songs to train our model '''\n",
    "def gen_training_songs(category, target, num_songs):\n",
    "    sample_df = df.loc[df[category] == target]\n",
    "    sample_df = sample_df[sample_df[\"lyrics\"].str.len() > 10]\n",
    "    rand_sample_songs = [random.randint(0,sample_df.shape[0]) for i in range(num_songs)]\n",
    "    return sample_df.iloc[rand_sample_songs]"
   ]
  },
  {
   "cell_type": "code",
   "execution_count": 11,
   "metadata": {
    "collapsed": true
   },
   "outputs": [],
   "source": [
    "''' Given a dataframe of song data and number of songs to sample, generates a .txt that contains num_songs number of\n",
    "    lyrics to train our model '''\n",
    "def sample_lyrics(df, num_songs):\n",
    "    sample_df = df[df[\"lyrics\"].str.len() > 10]\n",
    "    rand_sample_songs = [random.randint(0,sample_df.shape[0]) for i in range(num_songs)]\n",
    "    sample_df = sample_df.iloc[rand_sample_songs]\n",
    "    sample_df.to_csv((\"sample_\" + str(num_songs) + \".txt\"),header = None, index = None, columns = [\"lyrics\"], encoding = \"utf-8\")"
   ]
  },
  {
   "cell_type": "markdown",
   "metadata": {},
   "source": [
    "#### Generate various training datasets\n",
    "- 3x10 songs (genre: pop, year: 2006, artist: Dolly Parton)\n",
    "- Dolly Parton songs (744 total songs)\n",
    "- Sample sizes: 1000, 2500, 5000"
   ]
  },
  {
   "cell_type": "code",
   "execution_count": 19,
   "metadata": {
    "collapsed": true
   },
   "outputs": [],
   "source": [
    "mini_pop_training = gen_training_songs(\"genre\", \"Pop\", 10)\n",
    "mini_pop_training.to_csv(\"pop_10_.txt\", header = None, index = None, columns = [\"lyrics\"])"
   ]
  },
  {
   "cell_type": "code",
   "execution_count": 20,
   "metadata": {
    "collapsed": true
   },
   "outputs": [],
   "source": [
    "mini_year_training = gen_training_songs(\"year\", 2006, 10)\n",
    "mini_year_training.to_csv(\"year_10_training.txt\", header = None, index = None, columns = [\"lyrics\"])"
   ]
  },
  {
   "cell_type": "code",
   "execution_count": 18,
   "metadata": {
    "collapsed": true
   },
   "outputs": [],
   "source": [
    "mini_artist_training = gen_training_songs(\"artist\", \"dolly-parton\", 10)\n",
    "mini_artist_training.to_csv(\"artist_10_.txt\", header = None, index = None, columns = [\"lyrics\"])"
   ]
  },
  {
   "cell_type": "code",
   "execution_count": 15,
   "metadata": {
    "collapsed": true
   },
   "outputs": [],
   "source": [
    "dolly_training = gen_training_songs(\"artist\", \"dolly-parton\", 744)\n",
    "dolly_training.to_csv(\"dolly_training.txt\", header = None, index = None, columns = [\"lyrics\"], encoding = \"utf-8\")"
   ]
  },
  {
   "cell_type": "code",
   "execution_count": 12,
   "metadata": {
    "collapsed": true
   },
   "outputs": [],
   "source": [
    "sample_1000 = sample_lyrics(df, 1000)\n",
    "sample_2500 = sample_lyrics(df, 2500)\n",
    "sample_5000 = sample_lyrics(df, 5000)"
   ]
  }
 ],
 "metadata": {
  "kernelspec": {
   "display_name": "Python 2",
   "language": "python",
   "name": "python2"
  },
  "language_info": {
   "codemirror_mode": {
    "name": "ipython",
    "version": 2
   },
   "file_extension": ".py",
   "mimetype": "text/x-python",
   "name": "python",
   "nbconvert_exporter": "python",
   "pygments_lexer": "ipython2",
   "version": "2.7.13"
  }
 },
 "nbformat": 4,
 "nbformat_minor": 2
}
